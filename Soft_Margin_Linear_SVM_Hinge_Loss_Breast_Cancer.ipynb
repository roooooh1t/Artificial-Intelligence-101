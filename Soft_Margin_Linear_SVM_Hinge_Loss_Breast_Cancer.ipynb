{
 "cells": [
  {
   "cell_type": "markdown",
   "id": "6765a8aa-1569-4ee2-9549-1ce3619d2e6e",
   "metadata": {},
   "source": [
    "## Soft-Margin Linear SVM on Breast Cancer Dataset using Hinge Loss and Gradient Descent"
   ]
  },
  {
   "cell_type": "markdown",
   "id": "b979987f-ca2b-47d1-a031-ed648509e6e2",
   "metadata": {},
   "source": [
    "### Importing Libraries"
   ]
  },
  {
   "cell_type": "code",
   "execution_count": 41,
   "id": "163baa2d-b9b2-48fa-844f-07ff9386ba45",
   "metadata": {},
   "outputs": [],
   "source": [
    "import numpy as np\n",
    "import matplotlib.pyplot as plt\n",
    "from sklearn.datasets import load_breast_cancer\n",
    "from sklearn.model_selection import train_test_split\n",
    "from sklearn.preprocessing import StandardScaler"
   ]
  },
  {
   "cell_type": "markdown",
   "id": "14df030b-c694-4a0f-96c8-0be6ca2f44ff",
   "metadata": {},
   "source": [
    "### Loading and Preparing the Breast Cancer Dataset"
   ]
  },
  {
   "cell_type": "code",
   "execution_count": 42,
   "id": "b244fa9a-8891-4a09-80c6-22afbfa56199",
   "metadata": {},
   "outputs": [],
   "source": [
    "data = load_breast_cancer()\n",
    "X = data.data\n",
    "y = data.target\n",
    "\n",
    "# Convert labels: 0 → -1 (malignant), 1 → +1 (benign)\n",
    "y = np.where(y == 0, -1, 1)\n",
    "\n",
    "# Train-test split\n",
    "X_train, X_test, y_train, y_test = train_test_split(X, y, test_size=0.2, random_state=42)\n",
    "\n",
    "# Standardize features\n",
    "scaler = StandardScaler()\n",
    "X_train = scaler.fit_transform(X_train)\n",
    "X_test = scaler.transform(X_test)"
   ]
  },
  {
   "cell_type": "markdown",
   "id": "bb8f87cb-a42c-4308-9f64-ba41b69ef72b",
   "metadata": {},
   "source": [
    "### SVM Model with Hinge Loss"
   ]
  },
  {
   "cell_type": "code",
   "execution_count": 43,
   "id": "9f357d9a-55f0-417c-954f-5749cbd03b1a",
   "metadata": {},
   "outputs": [],
   "source": [
    "def compute_hinge_loss(w, X, y, reg_param):\n",
    "    margins = 1 - y * X.dot(w)\n",
    "    loss = np.maximum(0, margins)\n",
    "    return np.mean(loss) + 0.5 * reg_param * np.sum(w ** 2)"
   ]
  },
  {
   "cell_type": "markdown",
   "id": "ab833e24-df39-446c-9abd-752fd6af5776",
   "metadata": {},
   "source": [
    "### Gradient Definiton"
   ]
  },
  {
   "cell_type": "code",
   "execution_count": 44,
   "id": "e05cf67f-0e9e-4317-9cb8-105d7cdd108d",
   "metadata": {},
   "outputs": [],
   "source": [
    "def compute_hinge_gradient(w, X, y, reg_param):\n",
    "    num_samples = X.shape[0]\n",
    "    \n",
    "    scores = X.dot(w)\n",
    "    margins = 1 - y * scores\n",
    "    \n",
    "    active = (margins > 0).astype(float)\n",
    "    weighted_samples = (active * y).reshape(-1, 1) * X\n",
    "    data_grad = -np.sum(weighted_samples, axis=0) / num_samples\n",
    "    \n",
    "    reg_grad = reg_param * w\n",
    "    total_grad = data_grad + reg_grad\n",
    "    \n",
    "    return total_grad"
   ]
  },
  {
   "cell_type": "markdown",
   "id": "7d84e204-d157-441d-ac9b-71b92e755bd2",
   "metadata": {},
   "source": [
    "### Gradient Descent Optimizer"
   ]
  },
  {
   "cell_type": "code",
   "execution_count": 45,
   "id": "c608ac40-ef09-4b56-a400-2aa5ceec4be7",
   "metadata": {},
   "outputs": [],
   "source": [
    "def svm_gradient_descent(X, y, learning_rate, reg_param, num_epochs):\n",
    "    w = np.zeros(X.shape[1])\n",
    "    losses = []\n",
    "\n",
    "    for _ in range(num_epochs):\n",
    "        loss = compute_hinge_loss(w, X, y, reg_param)\n",
    "        grad = compute_hinge_gradient(w, X, y, reg_param)\n",
    "        w -= learning_rate * grad\n",
    "        losses.append(loss)\n",
    "\n",
    "    return w, losses"
   ]
  },
  {
   "cell_type": "markdown",
   "id": "3ca42b26-272c-4af8-91c3-be9a2d587eee",
   "metadata": {},
   "source": [
    "### Training SVM"
   ]
  },
  {
   "cell_type": "code",
   "execution_count": 46,
   "id": "dac812dd-4fe9-44b8-a7f9-ec287be52cec",
   "metadata": {},
   "outputs": [],
   "source": [
    "learning_rate = 0.01\n",
    "reg_param = 0.1\n",
    "num_epochs = 1000\n",
    "\n",
    "weights, losses = svm_gradient_descent(X_train, y_train, learning_rate, reg_param, num_epochs)"
   ]
  },
  {
   "cell_type": "markdown",
   "id": "51620e87-9918-447f-a12a-c9cfcc3a7f18",
   "metadata": {},
   "source": [
    "### Training Set Performance Metrics"
   ]
  },
  {
   "cell_type": "code",
   "execution_count": 52,
   "id": "d8fe4671-e808-4205-aab9-9ba64c618f06",
   "metadata": {},
   "outputs": [
    {
     "name": "stdout",
     "output_type": "stream",
     "text": [
      "Accuracy        : 98.02%\n",
      "Hinge Loss      : 0.1426\n",
      "Margin          : 1.0706\n",
      "Misclassified   : 9 out of 455\n"
     ]
    }
   ],
   "source": [
    "y_train_pred = np.sign(X_train.dot(weights))\n",
    "\n",
    "train_accuracy = np.mean(y_train_pred == y_train)\n",
    "train_loss = compute_hinge_loss(weights, X_train, y_train, reg_param)\n",
    "train_margin = 1 / np.linalg.norm(weights)\n",
    "train_misclassified = np.sum(y_train_pred != y_train)\n",
    "\n",
    "print(f\"Accuracy        : {train_accuracy * 100:.2f}%\")\n",
    "print(f\"Hinge Loss      : {train_loss:.4f}\")\n",
    "print(f\"Margin          : {train_margin:.4f}\")\n",
    "print(f\"Misclassified   : {train_misclassified} out of {len(y_train)}\")"
   ]
  },
  {
   "cell_type": "markdown",
   "id": "593cca69-b34a-478d-a04f-f5b6ff4e7965",
   "metadata": {},
   "source": [
    "### Predications on Test Data"
   ]
  },
  {
   "cell_type": "code",
   "execution_count": 53,
   "id": "ad61f050-ba60-4c6a-9c8e-3467826eb996",
   "metadata": {},
   "outputs": [],
   "source": [
    "y_test_pred = np.sign(X_test.dot(weights))"
   ]
  },
  {
   "cell_type": "markdown",
   "id": "89c2109c-b0d6-427f-99a9-3e557e16ea7b",
   "metadata": {},
   "source": [
    "### Test Set Performance Metrics"
   ]
  },
  {
   "cell_type": "code",
   "execution_count": 54,
   "id": "f75acf38-9ee9-45b9-92a4-233ae8d91a68",
   "metadata": {},
   "outputs": [
    {
     "name": "stdout",
     "output_type": "stream",
     "text": [
      "Accuracy        : 97.37%\n",
      "Hinge Loss      : 0.1279\n",
      "Margin          : 1.0706\n",
      "Misclassified   : 3 out of 114\n"
     ]
    }
   ],
   "source": [
    "test_accuracy = np.mean(y_test_pred == y_test)\n",
    "test_loss = compute_hinge_loss(weights, X_test, y_test, reg_param)\n",
    "test_margin = 1 / np.linalg.norm(weights)\n",
    "test_misclassified = np.sum(y_test_pred != y_test)\n",
    "\n",
    "print(f\"Accuracy        : {test_accuracy * 100:.2f}%\")\n",
    "print(f\"Hinge Loss      : {test_loss:.4f}\")\n",
    "print(f\"Margin          : {test_margin:.4f}\")\n",
    "print(f\"Misclassified   : {test_misclassified} out of {len(y_test)}\")"
   ]
  },
  {
   "cell_type": "markdown",
   "id": "c9f2c1db-8ff2-4236-97ec-79bc81bef3fd",
   "metadata": {},
   "source": [
    "### Loss over Epochs"
   ]
  },
  {
   "cell_type": "code",
   "execution_count": 61,
   "id": "f51fd901-674f-458e-9c09-173c58af1649",
   "metadata": {},
   "outputs": [
    {
     "data": {
      "image/png": "[encoded data removed]",
      "text/plain": [
       "<Figure size 800x600 with 1 Axes>"
      ]
     },
     "metadata": {},
     "output_type": "display_data"
    }
   ],
   "source": [
    "plt.figure(figsize=(8 , 6))\n",
    "plt.plot(losses, color='dodgerblue')\n",
    "plt.xlabel('Epoch')\n",
    "plt.ylabel('Hinge Loss')\n",
    "plt.title('Training Loss Over Epochs')\n",
    "plt.grid(False)\n",
    "plt.show()"
   ]
  }
 ],
 "metadata": {
  "kernelspec": {
   "display_name": "Python (myenv)",
   "language": "python",
   "name": "myenv"
  },
  "language_info": {
   "codemirror_mode": {
    "name": "ipython",
    "version": 3
   },
   "file_extension": ".py",
   "mimetype": "text/x-python",
   "name": "python",
   "nbconvert_exporter": "python",
   "pygments_lexer": "ipython3",
   "version": "3.10.17"
  }
 },
 "nbformat": 4,
 "nbformat_minor": 5
}
