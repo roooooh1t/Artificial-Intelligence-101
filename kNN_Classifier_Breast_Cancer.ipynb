{
 "cells": [
  {
   "cell_type": "markdown",
   "id": "c7818845-1ff6-4449-a9c7-b8d9a8c475bb",
   "metadata": {},
   "source": [
    "## k-NN Classifier on Breast Cancer Dataset (Custom Implementation)"
   ]
  },
  {
   "cell_type": "markdown",
   "id": "97389e39-4846-49a1-9cff-711499bace8c",
   "metadata": {},
   "source": [
    "### Importing Libraries"
   ]
  },
  {
   "cell_type": "code",
   "execution_count": 5,
   "id": "19fb81a6-6a74-4ee4-8e88-81001e916324",
   "metadata": {},
   "outputs": [],
   "source": [
    "import numpy as np\n",
    "from sklearn.datasets import load_breast_cancer\n",
    "from sklearn.model_selection import train_test_split\n",
    "from sklearn.preprocessing import StandardScaler"
   ]
  },
  {
   "cell_type": "markdown",
   "id": "fe21c993-e1db-4292-805b-40741a3c5b0a",
   "metadata": {},
   "source": [
    "### Loading and Preprocessing the Dataset"
   ]
  },
  {
   "cell_type": "code",
   "execution_count": 6,
   "id": "7176a6e9-3ce1-4539-85a1-2f779bb1614c",
   "metadata": {},
   "outputs": [],
   "source": [
    "data = load_breast_cancer()\n",
    "X = data.data\n",
    "y = data.target  # 0 = malignant, 1 = benign\n",
    "\n",
    "X_train, X_test, y_train, y_test = train_test_split(X, y, test_size=0.2, random_state=42)\n",
    "\n",
    "scaler = StandardScaler()\n",
    "X_train = scaler.fit_transform(X_train)\n",
    "X_test = scaler.transform(X_test)"
   ]
  },
  {
   "cell_type": "markdown",
   "id": "d08e7ba0-fb9a-451b-9dc9-e689ca6eabf9",
   "metadata": {},
   "source": [
    "### Custom kNN Classifier"
   ]
  },
  {
   "cell_type": "code",
   "execution_count": 7,
   "id": "3c62d4ed-8558-4a57-a153-8f83f9a9d2c0",
   "metadata": {},
   "outputs": [],
   "source": [
    "def my_knn_classifier(train_data , train_labels , test_data , k):\n",
    "    predictions = []\n",
    "\n",
    "    for test_point in test_data:\n",
    "        distances = np.linalg.norm(train_data - test_point , axis = 1)\n",
    "        k_nearest_indices = np.argsort(distances)[:k]\n",
    "        k_nearest_labels = train_labels[k_nearest_indices]\n",
    "        labels, counts = np.unique(k_nearest_labels, return_counts=True)\n",
    "        most_common_label = labels[np.argmax(counts)]\n",
    "        predictions.append(most_common_label)\n",
    "\n",
    "    return np.array(predictions)"
   ]
  },
  {
   "cell_type": "markdown",
   "id": "3e268a4d-b638-4648-b87c-b58150108038",
   "metadata": {},
   "source": [
    "### Making Predictions"
   ]
  },
  {
   "cell_type": "code",
   "execution_count": 8,
   "id": "7b46cbdb-2b2c-4fa8-8566-7cfb096f617a",
   "metadata": {},
   "outputs": [],
   "source": [
    "k_value = 5\n",
    "y_train_pred = my_knn_classifier(X_train, y_train, X_train, k_value)\n",
    "y_test_pred = my_knn_classifier(X_train, y_train, X_test, k_value)"
   ]
  },
  {
   "cell_type": "markdown",
   "id": "c638a1a7-99b6-45a9-8af5-8e2af5e51f04",
   "metadata": {},
   "source": [
    "### Accuracy and Misclassifications"
   ]
  },
  {
   "cell_type": "code",
   "execution_count": 10,
   "id": "bf797be8-331a-463c-ae6b-eb3378cdf879",
   "metadata": {},
   "outputs": [
    {
     "name": "stdout",
     "output_type": "stream",
     "text": [
      "\n",
      "--- Train Set Results ---\n",
      "Accuracy        : 98.02%\n",
      "Misclassified   : 9 out of 455\n",
      "\n",
      "--- Test Set Results ---\n",
      "Accuracy        : 94.74%\n",
      "Misclassified   : 6 out of 114\n"
     ]
    }
   ],
   "source": [
    "train_accuracy = np.mean(y_train_pred == y_train)\n",
    "test_accuracy = np.mean(y_test_pred == y_test)\n",
    "\n",
    "train_errors = np.sum(y_train_pred != y_train)\n",
    "test_errors = np.sum(y_test_pred != y_test)\n",
    "\n",
    "print(\"\\n--- Train Set Results ---\")\n",
    "print(f\"Accuracy        : {train_accuracy * 100:.2f}%\")\n",
    "print(f\"Misclassified   : {train_errors} out of {len(y_train)}\")\n",
    "\n",
    "print(\"\\n--- Test Set Results ---\")\n",
    "print(f\"Accuracy        : {test_accuracy * 100:.2f}%\")\n",
    "print(f\"Misclassified   : {test_errors} out of {len(y_test)}\")"
   ]
  },
  {
   "cell_type": "code",
   "execution_count": null,
   "id": "baebf8d1-60f8-4f99-a44d-dd5febe8f59d",
   "metadata": {},
   "outputs": [],
   "source": []
  }
 ],
 "metadata": {
  "kernelspec": {
   "display_name": "Python (myenv)",
   "language": "python",
   "name": "myenv"
  },
  "language_info": {
   "codemirror_mode": {
    "name": "ipython",
    "version": 3
   },
   "file_extension": ".py",
   "mimetype": "text/x-python",
   "name": "python",
   "nbconvert_exporter": "python",
   "pygments_lexer": "ipython3",
   "version": "3.10.17"
  }
 },
 "nbformat": 4,
 "nbformat_minor": 5
}
