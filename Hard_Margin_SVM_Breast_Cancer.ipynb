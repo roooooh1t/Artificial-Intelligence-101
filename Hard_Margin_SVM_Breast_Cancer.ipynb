{
 "cells": [
  {
   "cell_type": "markdown",
   "id": "2a096337-4f8c-49b3-9ece-e8af248edf2b",
   "metadata": {},
   "source": [
    "## Hard-Margin SVM on Breast Cancer Dataset"
   ]
  },
  {
   "cell_type": "markdown",
   "id": "c446d467-b55b-476e-bcac-88f75bb3d33e",
   "metadata": {},
   "source": [
    "### Importing Libraries"
   ]
  },
  {
   "cell_type": "code",
   "execution_count": 1,
   "id": "8ef47434-1f70-4b57-9fd3-9138a26f53a3",
   "metadata": {},
   "outputs": [],
   "source": [
    "import numpy as np\n",
    "import cvxopt\n",
    "import cvxopt.solvers\n",
    "from sklearn.datasets import load_breast_cancer\n",
    "from sklearn.model_selection import train_test_split\n",
    "from sklearn.preprocessing import StandardScaler"
   ]
  },
  {
   "cell_type": "markdown",
   "id": "a4cdbcd0-0841-40c9-849a-a440a2272a78",
   "metadata": {},
   "source": [
    "### Loading and Preprocessing Breast Cancer Dataset"
   ]
  },
  {
   "cell_type": "code",
   "execution_count": 2,
   "id": "212297be-fa0c-454e-88e3-5de1cfcbe852",
   "metadata": {},
   "outputs": [],
   "source": [
    "data = load_breast_cancer()\n",
    "X = data.data\n",
    "y = data.target\n",
    "y = np.where(y == 0, -1, 1)\n",
    "\n",
    "X_train, X_test, y_train, y_test = train_test_split(X, y, test_size=0.2, random_state=42)\n",
    "\n",
    "scaler = StandardScaler()\n",
    "X_train = scaler.fit_transform(X_train)\n",
    "X_test = scaler.transform(X_test)"
   ]
  },
  {
   "cell_type": "markdown",
   "id": "57cda693-98e2-41b9-a76c-a97801484120",
   "metadata": {},
   "source": [
    "### Forming the QP Matrices"
   ]
  },
  {
   "cell_type": "code",
   "execution_count": 3,
   "id": "32449d75-0969-4b94-9370-73d184ddaf18",
   "metadata": {},
   "outputs": [],
   "source": [
    "N = X_train.shape[0]\n",
    "\n",
    "Gtmp = np.dot(X_train, X_train.T) * np.outer(y_train, y_train)\n",
    "G = cvxopt.matrix(Gtmp)\n",
    "\n",
    "q = cvxopt.matrix(-np.ones(N))\n",
    "M = cvxopt.matrix(-np.eye(N))\n",
    "h = cvxopt.matrix(np.zeros(N))\n",
    "\n",
    "A = cvxopt.matrix(y_train.astype(float), (1, N))\n",
    "d = cvxopt.matrix(0.0)"
   ]
  },
  {
   "cell_type": "markdown",
   "id": "f0f0d06f-2b9f-426d-a849-e13a2564f784",
   "metadata": {},
   "source": [
    "### Solving the QP Problem"
   ]
  },
  {
   "cell_type": "code",
   "execution_count": 4,
   "id": "4e5c2b33-6537-4912-af31-21948a43e75a",
   "metadata": {},
   "outputs": [],
   "source": [
    "cvxopt.solvers.options['show_progress'] = False\n",
    "qp_solution = cvxopt.solvers.qp(G, q, M, h, A, d)\n",
    "\n",
    "alpha_optimal = np.ravel(qp_solution['x'])"
   ]
  },
  {
   "cell_type": "markdown",
   "id": "43d2a19c-5545-4450-b40b-152cfdc85279",
   "metadata": {},
   "source": [
    "### Support Vectors, Weight, and Bias"
   ]
  },
  {
   "cell_type": "code",
   "execution_count": 5,
   "id": "8a774b54-66a9-4f2f-bcb0-dae0bd3ccd30",
   "metadata": {},
   "outputs": [
    {
     "name": "stdout",
     "output_type": "stream",
     "text": [
      "Margin: 0.021535710207290018\n",
      "Number of Support Vectors: 25\n"
     ]
    }
   ],
   "source": [
    "support_vector_indices = np.where(alpha_optimal > 1e-5)[0]\n",
    "\n",
    "support_vectors = X_train[support_vector_indices]\n",
    "support_vector_labels = y_train[support_vector_indices]\n",
    "\n",
    "w = np.sum((alpha_optimal[support_vector_indices] * support_vector_labels).reshape(-1, 1) * support_vectors, axis=0)\n",
    "b = np.mean(support_vector_labels - np.dot(support_vectors, w))\n",
    "\n",
    "margin = 1 / np.linalg.norm(w)\n",
    "\n",
    "print(\"Margin:\", margin)\n",
    "print(f\"Number of Support Vectors: {len(support_vector_indices)}\")"
   ]
  },
  {
   "cell_type": "markdown",
   "id": "41d20238-6e7d-4a0f-9dbc-1672bf874143",
   "metadata": {},
   "source": [
    "### Predictions on Train and Test Sets"
   ]
  },
  {
   "cell_type": "code",
   "execution_count": 6,
   "id": "7d94fee1-6056-4648-972e-7d765e9decd3",
   "metadata": {},
   "outputs": [],
   "source": [
    "y_train_pred = np.sign(np.dot(X_train, w) + b)\n",
    "y_test_pred = np.sign(np.dot(X_test, w) + b)"
   ]
  },
  {
   "cell_type": "markdown",
   "id": "c18882b2-d54b-4d90-9e97-1f44b0a7395e",
   "metadata": {},
   "source": [
    "### Metrics: Accuracy & Misclassification"
   ]
  },
  {
   "cell_type": "code",
   "execution_count": 7,
   "id": "e6174859-7582-452c-b358-a6ad5c2b61e1",
   "metadata": {},
   "outputs": [
    {
     "name": "stdout",
     "output_type": "stream",
     "text": [
      "\n",
      "--- Train Set Results ---\n",
      "Accuracy        : 100.00%\n",
      "Misclassified   : 0 out of 455\n",
      "\n",
      "--- Test Set Results ---\n",
      "Accuracy        : 93.86%\n",
      "Misclassified   : 7 out of 114\n"
     ]
    }
   ],
   "source": [
    "train_accuracy = np.mean(y_train_pred == y_train)\n",
    "test_accuracy = np.mean(y_test_pred == y_test)\n",
    "\n",
    "train_errors = np.sum(y_train_pred != y_train)\n",
    "test_errors = np.sum(y_test_pred != y_test)\n",
    "\n",
    "print(\"\\n--- Train Set Results ---\")\n",
    "print(f\"Accuracy        : {train_accuracy * 100:.2f}%\")\n",
    "print(f\"Misclassified   : {train_errors} out of {len(y_train)}\")\n",
    "\n",
    "print(\"\\n--- Test Set Results ---\")\n",
    "print(f\"Accuracy        : {test_accuracy * 100:.2f}%\")\n",
    "print(f\"Misclassified   : {test_errors} out of {len(y_test)}\")"
   ]
  }
 ],
 "metadata": {
  "kernelspec": {
   "display_name": "Python (myenv)",
   "language": "python",
   "name": "myenv"
  },
  "language_info": {
   "codemirror_mode": {
    "name": "ipython",
    "version": 3
   },
   "file_extension": ".py",
   "mimetype": "text/x-python",
   "name": "python",
   "nbconvert_exporter": "python",
   "pygments_lexer": "ipython3",
   "version": "3.10.17"
  }
 },
 "nbformat": 4,
 "nbformat_minor": 5
}
