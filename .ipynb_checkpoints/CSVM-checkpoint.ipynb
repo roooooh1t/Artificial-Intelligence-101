{
 "cells": [
  {
   "cell_type": "code",
   "execution_count": null,
   "id": "8ca35d91-d2d8-4f32-a57f-a802d4fa2e49",
   "metadata": {},
   "outputs": [],
   "source": []
  }
 ],
 "metadata": {
  "kernelspec": {
   "display_name": "Python (myenv)",
   "language": "python",
   "name": "myenv"
  },
  "language_info": {
   "codemirror_mode": {
    "name": "ipython",
    "version": 3
   },
   "file_extension": ".py",
   "mimetype": "text/x-python",
   "name": "python",
   "nbconvert_exporter": "python",
   "pygments_lexer": "ipython3",
   "version": "3.10.17"
  }
 },
 "nbformat": 4,
 "nbformat_minor": 5
}
