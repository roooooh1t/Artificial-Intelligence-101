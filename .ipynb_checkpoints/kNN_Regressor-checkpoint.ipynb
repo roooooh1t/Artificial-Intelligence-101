{
 "cells": [
  {
   "cell_type": "code",
   "execution_count": null,
   "id": "f6e9c3ba-3b45-4b53-a01c-70121c30be0f",
   "metadata": {},
   "outputs": [],
   "source": []
  }
 ],
 "metadata": {
  "kernelspec": {
   "display_name": "Python (myenv)",
   "language": "python",
   "name": "myenv"
  },
  "language_info": {
   "codemirror_mode": {
    "name": "ipython",
    "version": 3
   },
   "file_extension": ".py",
   "mimetype": "text/x-python",
   "name": "python",
   "nbconvert_exporter": "python",
   "pygments_lexer": "ipython3",
   "version": "3.10.17"
  }
 },
 "nbformat": 4,
 "nbformat_minor": 5
}
