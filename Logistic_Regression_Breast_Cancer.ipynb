{
 "cells": [
  {
   "cell_type": "markdown",
   "id": "c7b3d4b6-e7cb-4e92-b2fa-ddca4cae7d1d",
   "metadata": {},
   "source": [
    "### Importing Libraries"
   ]
  },
  {
   "cell_type": "code",
   "execution_count": 8,
   "id": "1a5c0c38-f524-4e63-908e-acaa518b0a08",
   "metadata": {},
   "outputs": [],
   "source": [
    "import numpy as np\n",
    "from sklearn.datasets import load_breast_cancer\n",
    "from sklearn.model_selection import train_test_split\n",
    "from sklearn.preprocessing import StandardScaler"
   ]
  },
  {
   "cell_type": "markdown",
   "id": "517fb433-ba78-4ea1-a88c-f5d925081e1d",
   "metadata": {},
   "source": [
    "### Loading and Preprocessing Data"
   ]
  },
  {
   "cell_type": "code",
   "execution_count": 9,
   "id": "04d202a5-6629-412f-b076-8023f8b312ad",
   "metadata": {},
   "outputs": [],
   "source": [
    "data = load_breast_cancer()\n",
    "X = data.data\n",
    "y = data.target  # 0 = malignant, 1 = benign\n",
    "\n",
    "# Add bias term manually (we'll prepend a column of 1s)\n",
    "X = np.hstack((np.ones((X.shape[0], 1)), X))\n",
    "\n",
    "# Train-test split\n",
    "X_train, X_test, y_train, y_test = train_test_split(X, y, test_size=0.2, random_state=42)\n",
    "\n",
    "scaler = StandardScaler()\n",
    "X_train[:, 1:] = scaler.fit_transform(X_train[:, 1:])\n",
    "X_test[:, 1:] = scaler.transform(X_test[:, 1:])"
   ]
  },
  {
   "cell_type": "markdown",
   "id": "9832c62e-d555-42dc-b573-3f25a1f2c50d",
   "metadata": {},
   "source": [
    "### Sigmoid Function"
   ]
  },
  {
   "cell_type": "code",
   "execution_count": 10,
   "id": "106fa17d-b4e4-476e-a980-115954ebc60a",
   "metadata": {},
   "outputs": [],
   "source": [
    "def sigmoid(z):\n",
    "    return 1 / (1 + np.exp(-z))"
   ]
  },
  {
   "cell_type": "markdown",
   "id": "153020e5-68a1-455c-b8e8-2a993a210faa",
   "metadata": {},
   "source": [
    "### Logistic Regression with L2 Regularization"
   ]
  },
  {
   "cell_type": "code",
   "execution_count": 11,
   "id": "595ed2bd-4f4c-48a7-9ce0-662e3562073c",
   "metadata": {},
   "outputs": [],
   "source": [
    "def compute_cost(X, y, weights, lambda_reg):\n",
    "    m = X.shape[0]\n",
    "    h = sigmoid(np.dot(X, weights))\n",
    "    eps = 1e-15\n",
    "    cost = - (1/m) * (np.dot(y, np.log(h + eps)) + np.dot((1 - y), np.log(1 - h + eps)))\n",
    "    reg_term = (lambda_reg / (2 * m)) * np.sum(weights[1:] ** 2)\n",
    "    return cost + reg_term"
   ]
  },
  {
   "cell_type": "markdown",
   "id": "5c21c6fc-a0ee-40df-921f-1019719c62cb",
   "metadata": {},
   "source": [
    "### Logistic Regression"
   ]
  },
  {
   "cell_type": "code",
   "execution_count": 12,
   "id": "ccced692-ca2a-4dee-aed9-06535bc41ea2",
   "metadata": {},
   "outputs": [],
   "source": [
    "def logistic_regression(X, y, eta, num_iterations, lambda_reg):\n",
    "    num_samples, num_features = X.shape\n",
    "    weights = np.zeros(num_features)\n",
    "\n",
    "    for _ in range(num_iterations):\n",
    "        predictions = sigmoid(np.dot(X, weights))\n",
    "        error = predictions - y\n",
    "        gradient = (1 / num_samples) * (np.dot(X.T, error) + lambda_reg * np.r_[0, weights[1:]])\n",
    "        weights -= eta * gradient\n",
    "\n",
    "    return weights"
   ]
  },
  {
   "cell_type": "markdown",
   "id": "e468002d-518d-42ef-b958-719760deaaf4",
   "metadata": {},
   "source": [
    "### Training the Model"
   ]
  },
  {
   "cell_type": "code",
   "execution_count": 13,
   "id": "921b4e90-2ecd-4dda-8fe3-36f2747677b8",
   "metadata": {},
   "outputs": [],
   "source": [
    "learning_rate = 0.01\n",
    "num_iterations = 1000\n",
    "lambda_reg = 1.0\n",
    "\n",
    "weights = logistic_regression(X_train, y_train, learning_rate, num_iterations, lambda_reg)"
   ]
  },
  {
   "cell_type": "markdown",
   "id": "8e5b8fc1-861b-49fa-9954-19b198f976b7",
   "metadata": {},
   "source": [
    "### Predictions and Evaluations"
   ]
  },
  {
   "cell_type": "code",
   "execution_count": 14,
   "id": "beac8919-d0f2-4497-9942-56cdfbdc5a6e",
   "metadata": {},
   "outputs": [
    {
     "name": "stdout",
     "output_type": "stream",
     "text": [
      "Training Accuracy: 98.24%\n",
      "Test Accuracy    : 98.25%\n",
      "Training Errors  : 8 out of 455\n",
      "Test Errors      : 2 out of 114\n"
     ]
    }
   ],
   "source": [
    "def predict(X, weights, threshold=0.5):\n",
    "    probs = sigmoid(np.dot(X, weights))\n",
    "    return (probs >= threshold).astype(int)\n",
    "\n",
    "y_pred_train = predict(X_train, weights)\n",
    "y_pred_test = predict(X_test, weights)\n",
    "\n",
    "train_accuracy = np.mean(y_pred_train == y_train)\n",
    "test_accuracy = np.mean(y_pred_test == y_test)\n",
    "\n",
    "print(\"Training Accuracy:\", f\"{train_accuracy * 100:.2f}%\")\n",
    "print(\"Test Accuracy    :\", f\"{test_accuracy * 100:.2f}%\")\n",
    "\n",
    "train_errors = np.sum(y_pred_train != y_train)\n",
    "test_errors = np.sum(y_pred_test != y_test)\n",
    "\n",
    "print(\"Training Errors  :\", train_errors, \"out of\", len(y_train))\n",
    "print(\"Test Errors      :\", test_errors, \"out of\", len(y_test))"
   ]
  },
  {
   "cell_type": "code",
   "execution_count": null,
   "id": "e6fdde5e-3ab8-4b7c-90c4-3cc844ef416c",
   "metadata": {},
   "outputs": [],
   "source": []
  }
 ],
 "metadata": {
  "kernelspec": {
   "display_name": "Python (myenv)",
   "language": "python",
   "name": "myenv"
  },
  "language_info": {
   "codemirror_mode": {
    "name": "ipython",
    "version": 3
   },
   "file_extension": ".py",
   "mimetype": "text/x-python",
   "name": "python",
   "nbconvert_exporter": "python",
   "pygments_lexer": "ipython3",
   "version": "3.10.17"
  }
 },
 "nbformat": 4,
 "nbformat_minor": 5
}
